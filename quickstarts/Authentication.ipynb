{
  "cells": [
    {
      "cell_type": "markdown",
      "metadata": {
        "id": "Tce3stUlHN0L"
      },
      "source": [
        "##### Copyright 2025 Google LLC."
      ]
    },
    {
      "cell_type": "code",
      "execution_count": null,
      "metadata": {
        "cellView": "form",
        "id": "tuOe1ymfHZPu"
      },
      "outputs": [],
      "source": [
        "# @title Licensed under the Apache License, Version 2.0 (the \"License\");\n",
        "# you may not use this file except in compliance with the License.\n",
        "# You may obtain a copy of the License at\n",
        "#\n",
        "# https://www.apache.org/licenses/LICENSE-2.0\n",
        "#\n",
        "# Unless required by applicable law or agreed to in writing, software\n",
        "# distributed under the License is distributed on an \"AS IS\" BASIS,\n",
        "# WITHOUT WARRANTIES OR CONDITIONS OF ANY KIND, either express or implied.\n",
        "# See the License for the specific language governing permissions and\n",
        "# limitations under the License."
      ]
    },
    {
      "cell_type": "markdown",
      "metadata": {
        "id": "yeadDkMiISin"
      },
      "source": [
        "# Gemini API: Authentication Quickstart"
      ]
    },
    {
      "cell_type": "markdown",
      "metadata": {
        "id": "lEXQ3OwKIa-O"
      },
      "source": [
        "<a target=\"_blank\" href=\"https://colab.research.google.com/github/google-gemini/cookbook/blob/main/quickstarts/Authentication.ipynb\"><img src=\"https://colab.research.google.com/assets/colab-badge.svg\" height=30/></a>"
      ]
    },
    {
      "cell_type": "markdown",
      "metadata": {
        "id": "df1767a3d1cc"
      },
      "source": [
        "The Gemini API uses API keys for authentication. This notebook walks you through creating an API key, and using it with the Python SDK or a command-line tool like `curl`."
      ]
    },
    {
      "cell_type": "markdown",
      "metadata": {
        "id": "mhFKmRmxi5B-"
      },
      "source": [
        "## Create an API key\n",
        "\n",
        "You can [create](https://aistudio.google.com/app/apikey) your API key using Google AI Studio with a single click.  \n",
        "\n",
        "Remember to treat your API key like a password. Don't accidentally save it in a notebook or source file you later commit to GitHub. This notebook shows you two ways you can securely store your API key.\n",
        "\n",
        "* If you're using Google Colab, it's recommended to store your key in Colab Secrets.\n",
        "\n",
        "* If you're using a different development environment (or calling the Gemini API through `cURL` in your terminal), it's recommended to store your key in an [environment variable](https://en.wikipedia.org/wiki/Environment_variable).\n",
        "\n",
        "Let's start with Colab Secrets."
      ]
    },
    {
      "cell_type": "markdown",
      "metadata": {
        "id": "dEoigYI9Jw_K"
      },
      "source": [
        "## Add your key to Colab Secrets\n",
        "\n",
        "Add your API key to the Colab Secrets manager to securely store it.\n",
        "\n",
        "1. Open your Google Colab notebook and click on the 🔑 **Secrets** tab in the left panel.\n",
        "   \n",
        "   <img src=\"https://storage.googleapis.com/generativeai-downloads/images/secrets.jpg\" alt=\"You can find the Secrets tab on the left panel.\" width=50%>\n",
        "\n",
        "2. Create a new secret with the name `GOOGLE_API_KEY`.\n",
        "3. Copy and paste your API key into the `Value` input box of `GOOGLE_API_KEY`.\n",
        "4. Toggle the button on the left to allow all notebooks access to the secret.\n"
      ]
    },
    {
      "cell_type": "markdown",
      "metadata": {
        "id": "jRY1eioF4gUB"
      },
      "source": [
        "## Install the Python SDK"
      ]
    },
    {
      "cell_type": "code",
      "execution_count": 1,
      "metadata": {
        "id": "xuiLSV7amy3P",
        "outputId": "f85dd20f-20d7-494b-dcda-86fd01fc1a83",
        "colab": {
          "base_uri": "https://localhost:8080/"
        }
      },
      "outputs": [
        {
          "output_type": "stream",
          "name": "stdout",
          "text": [
            "\u001b[2K     \u001b[90m━━━━━━━━━━━━━━━━━━━━━━━━━━━━━━━━━━━━━━━━\u001b[0m \u001b[32m40.5/40.5 kB\u001b[0m \u001b[31m1.9 MB/s\u001b[0m eta \u001b[36m0:00:00\u001b[0m\n",
            "\u001b[2K   \u001b[90m━━━━━━━━━━━━━━━━━━━━━━━━━━━━━━━━━━━━━━━━\u001b[0m \u001b[32m226.1/226.1 kB\u001b[0m \u001b[31m6.9 MB/s\u001b[0m eta \u001b[36m0:00:00\u001b[0m\n",
            "\u001b[?25h"
          ]
        }
      ],
      "source": [
        "%pip install -qU 'google-genai>=1.0.0'"
      ]
    },
    {
      "cell_type": "markdown",
      "metadata": {
        "id": "3dw8ygh74mVc"
      },
      "source": [
        "## Configure the SDK with your API key\n",
        "\n",
        "You create a client using your API key, but instead of pasting your key into the notebook, you'll read it from Colab Secrets thanks to `userdata`."
      ]
    },
    {
      "cell_type": "code",
      "execution_count": 2,
      "metadata": {
        "id": "DTl-qZp34sht"
      },
      "outputs": [],
      "source": [
        "from google import genai\n",
        "from google.colab import userdata\n",
        "\n",
        "GOOGLE_API_KEY = userdata.get('GOOGLE_API_KEY')\n",
        "client = genai.Client(api_key=GOOGLE_API_KEY)"
      ]
    },
    {
      "cell_type": "markdown",
      "metadata": {
        "id": "b7ceb7517bf5"
      },
      "source": [
        "Now choose a model. The Gemini API offers different models that are optimized for specific use cases. For more information check [Gemini models](https://ai.google.dev/gemini-api/docs/models)"
      ]
    },
    {
      "cell_type": "code",
      "execution_count": 4,
      "metadata": {
        "id": "7135d9ae3e4b"
      },
      "outputs": [],
      "source": [
        "MODEL_ID = \"gemini-2.5-flash\" # @param [\"gemini-2.5-flash-lite-preview-06-17\",\"gemini-2.0-flash\",\"gemini-2.5-flash\",\"gemini-2.5-pro\"] {\"allow-input\":true, isTemplate: true}"
      ]
    },
    {
      "cell_type": "markdown",
      "metadata": {
        "id": "tr7oAO6-nMsE"
      },
      "source": [
        "And that's it! Now you're ready to call the Gemini API."
      ]
    },
    {
      "cell_type": "code",
      "execution_count": 5,
      "metadata": {
        "id": "n6sXnWrJoKoo",
        "outputId": "d62f2a24-e389-4cc7-ff3a-cfca6a671398",
        "colab": {
          "base_uri": "https://localhost:8080/",
          "height": 1000
        }
      },
      "outputs": [
        {
          "output_type": "display_data",
          "data": {
            "text/plain": [
              "<IPython.core.display.Markdown object>"
            ],
            "text/markdown": "Python provides incredibly easy and efficient ways to sort lists, primarily through two built-in features:\n\n1.  **`sorted()` function:** Returns a *new* sorted list without modifying the original.\n2.  **`list.sort()` method:** Sorts the list *in-place* (modifies the original list directly).\n\nLet's look at examples for both.\n\n---\n\n### 1. Using `sorted()` (Recommended for most cases)\n\nThe `sorted()` function takes any iterable (like a list, tuple, or string) and returns a **new list** containing all items from the iterable in ascending order. The original list remains unchanged.\n\n```python\n# --- Basic Usage ---\nmy_list = [3, 1, 4, 1, 5, 9, 2, 6]\nsorted_list = sorted(my_list)\n\nprint(f\"Original list: {my_list}\")          # Output: Original list: [3, 1, 4, 1, 5, 9, 2, 6]\nprint(f\"Sorted (new) list: {sorted_list}\")  # Output: Sorted (new) list: [1, 1, 2, 3, 4, 5, 6, 9]\n\n# --- Sorting in descending order (reverse=True) ---\ndescending_list = sorted(my_list, reverse=True)\nprint(f\"Sorted (descending): {descending_list}\") # Output: Sorted (descending): [9, 6, 5, 4, 3, 2, 1, 1]\n\n# --- Sorting other iterables ---\nmy_tuple = (5, 2, 8, 1)\nsorted_tuple_as_list = sorted(my_tuple)\nprint(f\"Sorted tuple as list: {sorted_tuple_as_list}\") # Output: Sorted tuple as list: [1, 2, 5, 8]\n\nmy_string = \"python\"\nsorted_string_as_list = sorted(my_string)\nprint(f\"Sorted string as list: {sorted_string_as_list}\") # Output: Sorted string as list: ['h', 'n', 'o', 'p', 't', 'y']\n\n# --- Custom sorting with 'key' argument ---\n# Sort a list of strings by their length\nwords = [\"apple\", \"banana\", \"kiwi\", \"orange\", \"grape\"]\nsorted_by_length = sorted(words, key=len)\nprint(f\"Sorted by length: {sorted_by_length}\") # Output: Sorted by length: ['kiwi', 'grape', 'apple', 'banana', 'orange']\n\n# Sort a list of dictionaries by a specific value (e.g., 'score')\nstudents = [\n    {\"name\": \"Alice\", \"score\": 85},\n    {\"name\": \"Bob\", \"score\": 92},\n    {\"name\": \"Charlie\", \"score\": 78}\n]\nsorted_by_score = sorted(students, key=lambda student: student['score'])\nprint(f\"Sorted by score: {sorted_by_score}\")\n# Output: Sorted by score: [{'name': 'Charlie', 'score': 78}, {'name': 'Alice', 'score': 85}, {'name': 'Bob', 'score': 92}]\n\n# Sort by score in descending order\nsorted_by_score_desc = sorted(students, key=lambda student: student['score'], reverse=True)\nprint(f\"Sorted by score (desc): {sorted_by_score_desc}\")\n# Output: Sorted by score (desc): [{'name': 'Bob', 'score': 92}, {'name': 'Alice', 'score': 85}, {'name': 'Charlie', 'score': 78}]\n```\n\n---\n\n### 2. Using `list.sort()` (In-place modification)\n\nThe `list.sort()` method is a method of the list object itself. It sorts the list **in-place**, meaning it modifies the original list directly and returns `None`.\n\n```python\n# --- Basic Usage ---\nmy_list_2 = [7, 0, 8, 4, 2]\nprint(f\"Original list before sort: {my_list_2}\") # Output: Original list before sort: [7, 0, 8, 4, 2]\n\nmy_list_2.sort() # Sorts the list in-place\n\nprint(f\"List after in-place sort: {my_list_2}\") # Output: List after in-place sort: [0, 2, 4, 7, 8]\n\n# --- Sorting in descending order (reverse=True) ---\nmy_list_3 = ['d', 'a', 'c', 'b']\nmy_list_3.sort(reverse=True)\nprint(f\"List after in-place sort (desc): {my_list_3}\") # Output: List after in-place sort (desc): ['d', 'c', 'b', 'a']\n\n# --- Custom sorting with 'key' argument ---\nemployees = [\n    {\"name\": \"Zoe\", \"age\": 30},\n    {\"name\": \"Liam\", \"age\": 25},\n    {\"name\": \"Grace\", \"age\": 35}\n]\nprint(f\"Employees before sort: {employees}\")\n\nemployees.sort(key=lambda emp: emp['age'])\nprint(f\"Employees sorted by age (in-place): {employees}\")\n# Output: Employees sorted by age (in-place): [{'name': 'Liam', 'age': 25}, {'name': 'Zoe', 'age': 30}, {'name': 'Grace', 'age': 35}]\n\n# Common pitfall: `list.sort()` returns None\nresult = my_list_2.sort()\nprint(f\"Result of list.sort(): {result}\") # Output: Result of list.sort(): None\nprint(f\"My list 2 is now: {my_list_2}\") # Output: My list 2 is now: [0, 2, 4, 7, 8] (still sorted)\n```\n\n---\n\n### When to use which?\n\n*   **Use `sorted()`:**\n    *   When you need a *new sorted list* and want to keep the original list unchanged.\n    *   When you need to sort an iterable that isn't a list (like a tuple, set, or string).\n    *   This is generally safer as it prevents unintended side effects.\n\n*   **Use `list.sort()`:**\n    *   When you want to modify the *original list directly* and don't need a copy.\n    *   This can be slightly more memory-efficient for very large lists, as it doesn't create a new list.\n\nBoth methods use Timsort, an efficient hybrid sorting algorithm, making them very fast for most practical purposes."
          },
          "metadata": {}
        }
      ],
      "source": [
        "from IPython.display import Markdown\n",
        "\n",
        "response = client.models.generate_content(\n",
        "    model=MODEL_ID,\n",
        "    contents=\"Please give me python code to sort a list.\"\n",
        ")\n",
        "\n",
        "display(Markdown(response.text))"
      ]
    },
    {
      "cell_type": "markdown",
      "metadata": {
        "id": "BTdQtZri1Brs"
      },
      "source": [
        "## Store your key in an environment variable"
      ]
    },
    {
      "cell_type": "markdown",
      "metadata": {
        "id": "gZDX51Y27pN4"
      },
      "source": [
        "If you're using a different development environment (or calling the Gemini API through `cURL` in your terminal), it's recommended to store your key in an environment variable.\n",
        "\n",
        "To store your key in an environment variable, open your terminal and run:\n",
        "\n",
        "```export GOOGLE_API_KEY=\"YOUR_API_KEY\"```\n",
        "\n",
        "If you're using Python, you can add these two lines to your notebook to read the key:\n",
        "\n",
        "```\n",
        "import os\n",
        "client = genai.Client(api_key=os.environ['GOOGLE_API_KEY'])\n",
        "```\n",
        "\n",
        "Alternatively, if it isn't provided explicitly, the client will look for the API key.\n",
        "\n",
        "```\n",
        "client = genai.Client()\n",
        "```\n",
        "\n",
        "Or, if you're calling the API through your terminal using `cURL`, you can copy and paste this code to read your key from the environment variable.\n",
        "\n",
        "```\n",
        "curl \"https://generativelanguage.googleapis.com/v1beta/models/gemini-2.0-flash:generateContent?key=$GOOGLE_API_KEY\" \\\n",
        "    -H 'Content-Type: application/json' \\\n",
        "    -X POST \\\n",
        "    -d '{\n",
        "      \"contents\": [{\n",
        "        \"parts\":[{\n",
        "          \"text\": \"Please give me Python code to sort a list.\"\n",
        "        }]\n",
        "      }]\n",
        "    }'\n",
        "```\n"
      ]
    },
    {
      "cell_type": "markdown",
      "metadata": {
        "id": "CAOKOcax1xZY"
      },
      "source": [
        "## Learning more\n",
        "\n",
        "Now that you know how to manage your API key, you've everything to [get started](./Get_started.ipynb) with Gemini. Check all the [quickstart guides](https://github.com/google-gemini/cookbook/tree/main/quickstarts) from the Cookbook, and in particular the [Get started](./Get_started.ipynb) one."
      ]
    }
  ],
  "metadata": {
    "colab": {
      "name": "Authentication.ipynb",
      "provenance": []
    },
    "google": {
      "image_path": "/site-assets/images/share.png",
      "keywords": [
        "examples",
        "googleai",
        "samplecode",
        "python",
        "embed",
        "function"
      ]
    },
    "kernelspec": {
      "display_name": "Python 3",
      "name": "python3"
    }
  },
  "nbformat": 4,
  "nbformat_minor": 0
}